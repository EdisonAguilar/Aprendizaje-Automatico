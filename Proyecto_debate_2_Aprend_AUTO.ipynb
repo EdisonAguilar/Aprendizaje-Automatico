{
 "cells": [
  {
   "cell_type": "code",
   "execution_count": null,
   "metadata": {},
   "outputs": [],
   "source": [
    "################Programa Aprendizaje automatico#############\n",
    "###Edison Aguilar "
   ]
  },
  {
   "cell_type": "code",
   "execution_count": null,
   "metadata": {},
   "outputs": [],
   "source": [
    "%matplotlib inline\n",
    "import numpy as np\n",
    "import pandas as pd\n",
    "import matplotlib.pyplot as plt\n",
    "import seaborn as sns\n",
    "from sklearn import ensemble\n",
    "from sklearn import linear_model\n",
    "from sklearn.preprocessing import OneHotEncoder\n",
    "from sklearn.compose import make_column_transformer\n",
    "from sklearn.preprocessing import MinMaxScaler\n",
    "from sklearn.compose import ColumnTransformer\n",
    "from sklearn.pipeline import Pipeline # Nos ayudará a automatizar todo\n",
    "from sklearn.model_selection import GridSearchCV # Nos ayudará a realizar cross-validation\n",
    "#from sklearn.ensemble import RandomForestClassifier # Modelo de Random Forest\n",
    "from sklearn.metrics import classification_report, accuracy_score # Métricas de precisión y performance\n",
    "from sklearn.model_selection import train_test_split\n",
    "from sklearn.metrics import confusion_matrix, ConfusionMatrixDisplay, accuracy_score\n",
    "from sklearn.metrics import precision_score, plot_confusion_matrix\n",
    "\n",
    "# for basic mathematics operation \n",
    "import numpy as np\n",
    "import pandas as pd\n",
    "from pandas import plotting\n",
    "\n",
    "# for visualizations\n",
    "import matplotlib.pyplot as plt\n",
    "import seaborn as sns\n",
    "plt.style.use('fivethirtyeight')"
   ]
  },
  {
   "cell_type": "code",
   "execution_count": null,
   "metadata": {},
   "outputs": [],
   "source": [
    "# importing the dataset\n",
    "path = \"C:\\\\PROGRAMAS PYTHON\\\\UIDE\\\\APRENDIZAJE AUTOMATICO\\\\penguins.csv\"\n",
    "data = pd.read_csv(path)\n",
    "data.head()\n",
    "\n",
    "species = data['species'].unique()\n",
    "print(\"Estas son todas las especies:   \")\n",
    "print(species)"
   ]
  },
  {
   "cell_type": "code",
   "execution_count": null,
   "metadata": {},
   "outputs": [],
   "source": [
    "#  describimos las variables \n",
    "data.describe()\n",
    "\n",
    "\n"
   ]
  },
  {
   "cell_type": "code",
   "execution_count": null,
   "metadata": {},
   "outputs": [],
   "source": [
    "# revisamos el formato de cada columna y si tienen datos nulos\n",
    "\n",
    "data.info()"
   ]
  },
  {
   "cell_type": "code",
   "execution_count": null,
   "metadata": {},
   "outputs": [],
   "source": [
    "print(data.columns)\n",
    "print(data['species'].unique())\n",
    "data.head()"
   ]
  },
  {
   "cell_type": "code",
   "execution_count": null,
   "metadata": {},
   "outputs": [],
   "source": [
    "data_pngn = data.copy()\n",
    "#Liempieza de Datos y ADA\n",
    "data_pngn['species'].fillna('ERR', inplace=True)\n",
    "data_pngn['island'].fillna('ERR', inplace=True)\n",
    "data_pngn['bill_length_mm'].fillna('ERR', inplace=True)\n",
    "data_pngn['bill_depth_mm'].fillna('ERR', inplace=True)\n",
    "data_pngn['flipper_length_mm'].fillna('ERR', inplace=True)\n",
    "data_pngn['body_mass_g'].fillna('ERR', inplace=True)\n",
    "data_pngn['sex'].fillna('ERR', inplace=True)\n",
    "\n",
    "data_pngn.head()\n",
    "\n",
    "#data_pngn['Sex']=new_lter['Sex'].replace({'MALE':'male','FEMALE':'female'})#"
   ]
  },
  {
   "cell_type": "code",
   "execution_count": null,
   "metadata": {},
   "outputs": [],
   "source": [
    "print(data_pngn.info())"
   ]
  },
  {
   "cell_type": "code",
   "execution_count": null,
   "metadata": {},
   "outputs": [],
   "source": [
    "#Observing Categorical Values\n",
    "print('1', data_pngn['species'].unique())\n",
    "print('2',data_pngn['island'].unique())\n",
    "print('3', data_pngn['bill_length_mm'].unique())\n",
    "print('4',data_pngn['flipper_length_mm'].unique())\n",
    "print('5',data_pngn['body_mass_g'].unique())\n",
    "print('6',data_pngn['flipper_length_mm'].unique())\n",
    "print('7',data_pngn['sex'].unique())\n",
    "\n",
    "\n",
    "data_pngn['species'].fillna('ERR', inplace=True)\n",
    "data_pngn['island'].fillna('ERR', inplace=True)\n",
    "data_pngn['bill_length_mm'].fillna('ERR', inplace=True)\n",
    "data_pngn['bill_depth_mm'].fillna('ERR', inplace=True)\n",
    "data_pngn['flipper_length_mm'].fillna('ERR', inplace=True)\n",
    "data_pngn['body_mass_g'].fillna('ERR', inplace=True)\n",
    "data_pngn['sex'].fillna('ERR', inplace=True)\n",
    "\n"
   ]
  },
  {
   "cell_type": "code",
   "execution_count": null,
   "metadata": {},
   "outputs": [],
   "source": []
  },
  {
   "cell_type": "code",
   "execution_count": null,
   "metadata": {},
   "outputs": [],
   "source": [
    "#EDA....\n",
    "fig, ax=plt.subplots()\n",
    "\n",
    "sns.countplot(data=data_pngn, x='species', hue='sex', palette=['darkblue','darkred','red'])\n",
    "#Labels\n",
    "plt.xlabel('Speciesde pinguino', fontsize=12, fontweight='bold', color='k')\n",
    "plt.ylabel('Conteo', fontsize=12, fontweight='bold', color='k')\n",
    "#plt('grafica1.png')\n",
    "#en este caso graficamos sin eliminar los datos previos para analizar que porcentaje o cantidad de datos compromete la eliminacion de los q he seteado como error ->ERR\n",
    "#Identificado la informacion presente en el dataset, elimino los valores que hje identificado como ERR ( excluyendolos de nuestro analisis de modelo)\n",
    "\n"
   ]
  },
  {
   "cell_type": "code",
   "execution_count": null,
   "metadata": {},
   "outputs": [],
   "source": [
    "data_pngn = data_pngn.loc[(data_pngn != \"ERR\").all(axis=1), :]\n",
    "data_pngn.head()\n",
    "\n",
    "#asginamos una nueva columna en relacion a la informacion a tratar , como 1 y 0 para los casos de male y female\n",
    "data_pngn['sex2'] = data_pngn.iloc[:,6].apply(lambda x: \"1\" if x=='MALE' else \"0\")\n"
   ]
  },
  {
   "cell_type": "code",
   "execution_count": null,
   "metadata": {},
   "outputs": [],
   "source": [
    "#EDA....\n",
    "fig, ax=plt.subplots()\n",
    "\n",
    "sns.countplot(data=data_pngn, x='species', hue='sex', palette=['darkblue','darkred','red'])\n",
    "#Labels\n",
    "plt.xlabel('Speciesde pinguino', fontsize=12, fontweight='bold', color='k')\n",
    "plt.ylabel('Conteo', fontsize=12, fontweight='bold', color='k')"
   ]
  },
  {
   "cell_type": "code",
   "execution_count": null,
   "metadata": {},
   "outputs": [],
   "source": [
    "sns.scatterplot( x = \"bill_length_mm\",y = \"bill_depth_mm\", data = data_pngn, hue = \"species\")"
   ]
  },
  {
   "cell_type": "code",
   "execution_count": null,
   "metadata": {},
   "outputs": [],
   "source": [
    "#data_pngn.rename(index={0:'INDEX'},inplace=True)\n",
    "#data_pngn.columns\n",
    "pairplot_figure = sns.pairplot(data_pngn, hue=\"species\")\n",
    "pairplot_figure.fig.set_size_inches(24, 12)"
   ]
  },
  {
   "cell_type": "code",
   "execution_count": null,
   "metadata": {},
   "outputs": [],
   "source": [
    "#utilizare las columnas index , y excluire la columna 1, que contiene la informacion para determinar la especie para mi modelo\n",
    "X = data_pngn.iloc[:, 2:5]\n",
    "#print(\"SE TIENE de X:\", X)\n",
    "Y=data_pngn['species'] #utilizamos la columna adicional RESPUESTA ya que deseamos que se base en si es de cada especie\n",
    "\n",
    "#print(X.shape)#verifico que los dimensionamientos de los array esten correctos para poder avanzar  en ambos campos\n",
    "#print(\"Se tiene de Y:\",Y.shape)\n",
    "#X = X.astype(float)\n",
    "\n",
    "X.head()\n",
    "Y.head()\n",
    "\n",
    "X_train, X_test, y_train, y_test = train_test_split(X,Y,test_size=0.33,random_state=42)\n",
    "from sklearn.tree import DecisionTreeClassifier\n",
    "from sklearn import tree\n",
    "clf = DecisionTreeClassifier() #empezamos a generar nuestro arbol de decision con toda la informacion que se ha trabajado\n",
    "clf = clf.fit(X_train, y_train)\n",
    "clf.get_params()\n",
    "\n",
    "predictions = clf.predict(X_test)\n",
    "predictions #obtengo el array de las predicciones para visualizar que este todo correcto\n",
    "y_pred = clf.predict(X_test)\n",
    "#y_true = clf.predict(X_train)\n",
    "#fianlmente grafico el arbol de decision \n",
    "tree.plot_tree(clf,fontsize=5)\n",
    "\n",
    "accuracy_score(y_test, predictions)\n",
    "\n",
    "from sklearn.metrics import confusion_matrix\n",
    "cm = confusion_matrix(y_test, predictions)\n",
    "print(cm)\n",
    "\n",
    "cm_display = ConfusionMatrixDisplay(cm).plot()"
   ]
  }
 ],
 "metadata": {
  "kernelspec": {
   "display_name": "Python 3.10.5 64-bit",
   "language": "python",
   "name": "python3"
  },
  "language_info": {
   "codemirror_mode": {
    "name": "ipython",
    "version": 3
   },
   "file_extension": ".py",
   "mimetype": "text/x-python",
   "name": "python",
   "nbconvert_exporter": "python",
   "pygments_lexer": "ipython3",
   "version": "3.10.5"
  },
  "orig_nbformat": 4,
  "vscode": {
   "interpreter": {
    "hash": "bf34de8c18f77f2559e488491effe5d4f801d27658dc0c4e100ad12ce026b10c"
   }
  }
 },
 "nbformat": 4,
 "nbformat_minor": 2
}
